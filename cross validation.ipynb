{
 "cells": [
  {
   "cell_type": "markdown",
   "id": "3f8d167e",
   "metadata": {},
   "source": [
    "# kFold"
   ]
  },
  {
   "cell_type": "code",
   "execution_count": 5,
   "id": "9127942f",
   "metadata": {},
   "outputs": [],
   "source": [
    "import numpy as np\n",
    "from sklearn.model_selection import KFold"
   ]
  },
  {
   "cell_type": "code",
   "execution_count": 2,
   "id": "5d2eee32",
   "metadata": {},
   "outputs": [],
   "source": [
    "rn = range(1,26)"
   ]
  },
  {
   "cell_type": "code",
   "execution_count": 6,
   "id": "3be6bc07",
   "metadata": {},
   "outputs": [],
   "source": [
    "kf5 = KFold(n_splits=5)\n",
    "kf3 = KFold(n_splits=3)\n"
   ]
  },
  {
   "cell_type": "code",
   "execution_count": 7,
   "id": "420fb5bd",
   "metadata": {},
   "outputs": [
    {
     "name": "stdout",
     "output_type": "stream",
     "text": [
      "[ 9 10 11 12 13 14 15 16 17 18 19 20 21 22 23 24] [0 1 2 3 4 5 6 7 8]\n",
      "[ 0  1  2  3  4  5  6  7  8 17 18 19 20 21 22 23 24] [ 9 10 11 12 13 14 15 16]\n",
      "[ 0  1  2  3  4  5  6  7  8  9 10 11 12 13 14 15 16] [17 18 19 20 21 22 23 24]\n"
     ]
    }
   ],
   "source": [
    "for trian_index,test_index in kf3.split(rn):\n",
    "    print(trian_index,test_index)"
   ]
  },
  {
   "cell_type": "code",
   "execution_count": 9,
   "id": "612f8e3e",
   "metadata": {},
   "outputs": [
    {
     "name": "stdout",
     "output_type": "stream",
     "text": [
      "[10 11 12 13 14 15 16 17 18 19 20 21 22 23 24 25] [1 2 3 4 5 6 7 8 9]\n",
      "[ 1  2  3  4  5  6  7  8  9 18 19 20 21 22 23 24 25] [10 11 12 13 14 15 16 17]\n",
      "[ 1  2  3  4  5  6  7  8  9 10 11 12 13 14 15 16 17] [18 19 20 21 22 23 24 25]\n"
     ]
    }
   ],
   "source": [
    "#if we want values, not the index we use np.take method\n",
    "\n",
    "for trian_index,test_index in kf3.split(rn):\n",
    "    print(np.take(rn,trian_index),np.take(rn,test_index))"
   ]
  },
  {
   "cell_type": "markdown",
   "id": "e6e88b30",
   "metadata": {},
   "source": [
    "# StratifiedKFold"
   ]
  },
  {
   "cell_type": "code",
   "execution_count": 2,
   "id": "208bb5ad",
   "metadata": {},
   "outputs": [],
   "source": [
    "from sklearn.datasets import make_classification\n",
    "from sklearn.model_selection import StratifiedKFold"
   ]
  },
  {
   "cell_type": "code",
   "execution_count": 3,
   "id": "80ea2552",
   "metadata": {},
   "outputs": [],
   "source": [
    "X,y = make_classification(n_samples=1000,n_classes=2,weights=[0.99,0.01],flip_y=0,random_state=1)\n",
    "kfold = StratifiedKFold(n_splits=5,shuffle= True , random_state=1)\n"
   ]
  },
  {
   "cell_type": "code",
   "execution_count": 8,
   "id": "7e3daccf",
   "metadata": {},
   "outputs": [
    {
     "name": "stdout",
     "output_type": "stream",
     "text": [
      ">Train: 0=%d, 1=%d, test: 0=%d,1=%d (792, 8, 198, 2)\n",
      ">Train: 0=%d, 1=%d, test: 0=%d,1=%d (792, 8, 198, 2)\n",
      ">Train: 0=%d, 1=%d, test: 0=%d,1=%d (792, 8, 198, 2)\n",
      ">Train: 0=%d, 1=%d, test: 0=%d,1=%d (792, 8, 198, 2)\n",
      ">Train: 0=%d, 1=%d, test: 0=%d,1=%d (792, 8, 198, 2)\n"
     ]
    }
   ],
   "source": [
    "for train_ix,test_ix in kfold.split(X,y):\n",
    "    train_X,test_X = X[train_ix],X[test_ix]\n",
    "    train_y,test_y = y[train_ix],y[test_ix]\n",
    "    train_0,train_1 = len(train_y[train_y==0]),len(train_y[train_y==1])\n",
    "    test_0,test_1   = len(test_y[test_y==0]),len(test_y[test_y==1])\n",
    "    \n",
    "    print('>Train: 0=%d, 1=%d, test: 0=%d,1=%d',  (train_0,train_1,test_0,test_1))"
   ]
  },
  {
   "cell_type": "markdown",
   "id": "49efdcb3",
   "metadata": {},
   "source": [
    "**using train test split**"
   ]
  },
  {
   "cell_type": "code",
   "execution_count": 11,
   "id": "7d35bec6",
   "metadata": {},
   "outputs": [],
   "source": [
    "from sklearn.datasets import make_classification\n",
    "from sklearn.model_selection import train_test_split"
   ]
  },
  {
   "cell_type": "code",
   "execution_count": 14,
   "id": "0264db0d",
   "metadata": {},
   "outputs": [],
   "source": [
    "X,y = make_classification(n_samples=1000,n_classes=2,weights=[0.99,0.01],random_state=1)\n",
    "trainX,testX,trainy,testy = train_test_split(X,y,test_size=0.5,random_state=2)"
   ]
  },
  {
   "cell_type": "code",
   "execution_count": 18,
   "id": "948a8d58",
   "metadata": {},
   "outputs": [
    {
     "name": "stdout",
     "output_type": "stream",
     "text": [
      ">Train: 0=%d, 1=%d, test: 0=%d,1=%d (496, 4, 489, 11)\n"
     ]
    }
   ],
   "source": [
    "train_0,train_1 = len(trainy[trainy==0]),len(trainy[trainy==1])\n",
    "test_0,test_1   = len(testy[testy==0]),len(testy[testy==1])\n",
    "    \n",
    "print('>Train: 0=%d, 1=%d, test: 0=%d,1=%d',  (train_0,train_1,test_0,test_1))"
   ]
  },
  {
   "cell_type": "markdown",
   "id": "6aad1bc6",
   "metadata": {},
   "source": [
    "# leave one out "
   ]
  },
  {
   "cell_type": "code",
   "execution_count": 20,
   "id": "d92c4b8f",
   "metadata": {},
   "outputs": [],
   "source": [
    "import numpy as np\n",
    "from sklearn.model_selection import LeaveOneOut"
   ]
  },
  {
   "cell_type": "code",
   "execution_count": 25,
   "id": "5f3aa898",
   "metadata": {},
   "outputs": [
    {
     "data": {
      "text/plain": [
       "2"
      ]
     },
     "execution_count": 25,
     "metadata": {},
     "output_type": "execute_result"
    }
   ],
   "source": [
    "x = np.array([[1,2],[3,4]])\n",
    "y =  np.array([1,2])\n",
    "loo = LeaveOneOut()\n",
    "loo.get_n_splits(x)"
   ]
  },
  {
   "cell_type": "markdown",
   "id": "4fc8328d",
   "metadata": {},
   "source": [
    "# Example"
   ]
  },
  {
   "cell_type": "code",
   "execution_count": 29,
   "id": "6723cecb",
   "metadata": {},
   "outputs": [],
   "source": [
    "import numpy as np\n",
    "import pandas as pd\n",
    "from sklearn.metrics import accuracy_score,confusion_matrix\n",
    "from sklearn.model_selection import cross_val_score\n",
    "from sklearn.ensemble import RandomForestClassifier\n",
    "from sklearn import svm"
   ]
  },
  {
   "cell_type": "code",
   "execution_count": 30,
   "id": "f0773510",
   "metadata": {},
   "outputs": [],
   "source": [
    "df = pd.read_csv('Iris.csv')"
   ]
  },
  {
   "cell_type": "code",
   "execution_count": 31,
   "id": "4012b23e",
   "metadata": {},
   "outputs": [
    {
     "data": {
      "text/html": [
       "<div>\n",
       "<style scoped>\n",
       "    .dataframe tbody tr th:only-of-type {\n",
       "        vertical-align: middle;\n",
       "    }\n",
       "\n",
       "    .dataframe tbody tr th {\n",
       "        vertical-align: top;\n",
       "    }\n",
       "\n",
       "    .dataframe thead th {\n",
       "        text-align: right;\n",
       "    }\n",
       "</style>\n",
       "<table border=\"1\" class=\"dataframe\">\n",
       "  <thead>\n",
       "    <tr style=\"text-align: right;\">\n",
       "      <th></th>\n",
       "      <th>Id</th>\n",
       "      <th>SepalLengthCm</th>\n",
       "      <th>SepalWidthCm</th>\n",
       "      <th>PetalLengthCm</th>\n",
       "      <th>PetalWidthCm</th>\n",
       "      <th>Species</th>\n",
       "    </tr>\n",
       "  </thead>\n",
       "  <tbody>\n",
       "    <tr>\n",
       "      <th>0</th>\n",
       "      <td>1</td>\n",
       "      <td>5.1</td>\n",
       "      <td>3.5</td>\n",
       "      <td>1.4</td>\n",
       "      <td>0.2</td>\n",
       "      <td>Iris-setosa</td>\n",
       "    </tr>\n",
       "    <tr>\n",
       "      <th>1</th>\n",
       "      <td>2</td>\n",
       "      <td>4.9</td>\n",
       "      <td>3.0</td>\n",
       "      <td>1.4</td>\n",
       "      <td>0.2</td>\n",
       "      <td>Iris-setosa</td>\n",
       "    </tr>\n",
       "    <tr>\n",
       "      <th>2</th>\n",
       "      <td>3</td>\n",
       "      <td>4.7</td>\n",
       "      <td>3.2</td>\n",
       "      <td>1.3</td>\n",
       "      <td>0.2</td>\n",
       "      <td>Iris-setosa</td>\n",
       "    </tr>\n",
       "    <tr>\n",
       "      <th>3</th>\n",
       "      <td>4</td>\n",
       "      <td>4.6</td>\n",
       "      <td>3.1</td>\n",
       "      <td>1.5</td>\n",
       "      <td>0.2</td>\n",
       "      <td>Iris-setosa</td>\n",
       "    </tr>\n",
       "    <tr>\n",
       "      <th>4</th>\n",
       "      <td>5</td>\n",
       "      <td>5.0</td>\n",
       "      <td>3.6</td>\n",
       "      <td>1.4</td>\n",
       "      <td>0.2</td>\n",
       "      <td>Iris-setosa</td>\n",
       "    </tr>\n",
       "  </tbody>\n",
       "</table>\n",
       "</div>"
      ],
      "text/plain": [
       "   Id  SepalLengthCm  SepalWidthCm  PetalLengthCm  PetalWidthCm      Species\n",
       "0   1            5.1           3.5            1.4           0.2  Iris-setosa\n",
       "1   2            4.9           3.0            1.4           0.2  Iris-setosa\n",
       "2   3            4.7           3.2            1.3           0.2  Iris-setosa\n",
       "3   4            4.6           3.1            1.5           0.2  Iris-setosa\n",
       "4   5            5.0           3.6            1.4           0.2  Iris-setosa"
      ]
     },
     "execution_count": 31,
     "metadata": {},
     "output_type": "execute_result"
    }
   ],
   "source": [
    "df.head(5)"
   ]
  },
  {
   "cell_type": "code",
   "execution_count": 32,
   "id": "2af5b508",
   "metadata": {},
   "outputs": [],
   "source": [
    "X = df[['SepalLengthCm','SepalWidthCm','PetalWidthCm']]\n",
    "y = df['Species']"
   ]
  },
  {
   "cell_type": "code",
   "execution_count": 33,
   "id": "73a8a356",
   "metadata": {},
   "outputs": [
    {
     "name": "stdout",
     "output_type": "stream",
     "text": [
      "[0.93333333 0.93333333 1.         0.93333333 1.         0.93333333\n",
      " 0.86666667 1.         1.         0.93333333]\n",
      "Accuracy of model with cross validation is : 95.33333333333334\n"
     ]
    }
   ],
   "source": [
    "model = svm.SVC()\n",
    "accuracy = cross_val_score(model,X,y,scoring = 'accuracy',cv=10)\n",
    "print(accuracy)\n",
    "print('Accuracy of model with cross validation is :',accuracy.mean()*100)"
   ]
  }
 ],
 "metadata": {
  "kernelspec": {
   "display_name": "Python 3 (ipykernel)",
   "language": "python",
   "name": "python3"
  },
  "language_info": {
   "codemirror_mode": {
    "name": "ipython",
    "version": 3
   },
   "file_extension": ".py",
   "mimetype": "text/x-python",
   "name": "python",
   "nbconvert_exporter": "python",
   "pygments_lexer": "ipython3",
   "version": "3.9.13"
  }
 },
 "nbformat": 4,
 "nbformat_minor": 5
}
